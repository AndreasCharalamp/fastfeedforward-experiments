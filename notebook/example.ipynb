{
 "cells": [
  {
   "cell_type": "code",
   "execution_count": null,
   "metadata": {},
   "outputs": [],
   "source": [
    "import sys\n",
    "sys.path.insert(0, \"../fastfeedforward\")\n",
    "\n",
    "from tqdm import tqdm\n",
    "\n",
    "import torch\n",
    "import torch.nn as nn\n",
    "from fff import FFF\n",
    "import matplotlib.pyplot as plt"
   ]
  },
  {
   "cell_type": "code",
   "execution_count": null,
   "metadata": {},
   "outputs": [],
   "source": [
    "batch_size = 128\n",
    "entropy_effect = 0.10\n",
    "n_epochs = 5\n",
    "\n",
    "leaf_width = 16\n",
    "depth = 3\n",
    "activation = nn.ReLU()\n",
    "leaf_dropout = 0.0\n",
    "region_leak = 0.0"
   ]
  },
  {
   "cell_type": "code",
   "execution_count": null,
   "metadata": {},
   "outputs": [],
   "source": [
    "# Load the MNIST dataset\n",
    "from torchvision import datasets, transforms\n",
    "transform = transforms.Compose([transforms.ToTensor(), transforms.Normalize((0.5,), (0.5,))])\n",
    "dataset_training = datasets.MNIST('data', download=True, train=True, transform=transform)\n",
    "dataloader_training = torch.utils.data.DataLoader(dataset_training, batch_size=batch_size, shuffle=True)\n",
    "dataset_testing = datasets.MNIST('data', download=True, train=False, transform=transform)\n",
    "dataloader_testing = torch.utils.data.DataLoader(dataset_testing, batch_size=batch_size, shuffle=True)"
   ]
  },
  {
   "cell_type": "code",
   "execution_count": null,
   "metadata": {},
   "outputs": [],
   "source": [
    "# setup the FFF model\n",
    "model = FFF(input_width=784, hidden_width=leaf_width, output_width=10, depth=depth, activation=activation, dropout=leaf_dropout, region_leak=region_leak)"
   ]
  },
  {
   "cell_type": "code",
   "execution_count": null,
   "metadata": {},
   "outputs": [],
   "source": [
    "# train the model\n",
    "training_losses = []\n",
    "training_accuracies = []\n",
    "training_entropies = []\n",
    "epoch_testing_losses = []\n",
    "epoch_testing_accuracies = []\n",
    "\n",
    "optimizer = torch.optim.Adam(model.parameters(), lr=0.001)\n",
    "criterion = nn.CrossEntropyLoss()\n",
    "for epoch in range(n_epochs):\n",
    "\tprint(\"Epoch\", epoch)\n",
    "\n",
    "\tmodel.train()\n",
    "\tfor batch_images, batch_labels in tqdm(dataloader_training):\n",
    "\t\toptimizer.zero_grad()\n",
    "\n",
    "\t\toutput, node_entropies = model(batch_images.view(-1, 784), return_entropies=True)\n",
    "\t\tnode_entropy_mean = node_entropies.mean()\n",
    "\t\tloss = criterion(output, batch_labels) + entropy_effect * node_entropy_mean\n",
    "\t\taccuracy = (output.argmax(dim=1) == batch_labels).detach().float().mean()\n",
    "\n",
    "\t\ttraining_losses.append(loss.item())\n",
    "\t\ttraining_accuracies.append(accuracy.item())\n",
    "\t\ttraining_entropies.append(node_entropy_mean.item())\n",
    "\n",
    "\t\tloss.backward()\n",
    "\t\toptimizer.step()\n",
    "\t\n",
    "\t# test the model\n",
    "\tmodel.eval()\n",
    "\ttesting_losses = []\n",
    "\ttesting_accuracies = []\n",
    "\tfor batch_images, batch_labels in tqdm(dataloader_testing):\n",
    "\t\toutput = model(batch_images.view(-1, 784))\n",
    "\t\tloss = criterion(output, batch_labels)\n",
    "\t\taccuracy = (output.argmax(dim=1) == batch_labels).detach().float().mean()\n",
    "\n",
    "\t\ttesting_losses.append(loss.item())\n",
    "\t\ttesting_accuracies.append(accuracy.item())\n",
    "\tepoch_testing_losses.append(sum(testing_losses) / len(testing_losses))\n",
    "\tepoch_testing_accuracies.append(sum(testing_accuracies) / len(testing_accuracies))"
   ]
  },
  {
   "cell_type": "code",
   "execution_count": null,
   "metadata": {},
   "outputs": [],
   "source": [
    "plt.plot(training_losses)\n",
    "plt.plot(training_accuracies)\n",
    "plt.plot(training_entropies)\n",
    "plt.legend([\"training loss\", \"training accuracy\", \"mean node entropy\"], loc=\"upper right\")\n",
    "plt.title(\"The evolution of training loss, accuracy, and mean node entropy\")"
   ]
  },
  {
   "cell_type": "code",
   "execution_count": null,
   "metadata": {},
   "outputs": [],
   "source": [
    "plt.plot(testing_losses)\n",
    "plt.plot(testing_accuracies)\n",
    "plt.legend([\"testing loss\", \"testing accuracy\"], loc=\"upper right\")\n",
    "plt.title(\"The evolution of testing loss and accuracy\")"
   ]
  },
  {
   "cell_type": "code",
   "execution_count": null,
   "metadata": {},
   "outputs": [],
   "source": []
  }
 ],
 "metadata": {
  "kernelspec": {
   "display_name": "py39torch",
   "language": "python",
   "name": "python3"
  },
  "language_info": {
   "codemirror_mode": {
    "name": "ipython",
    "version": 3
   },
   "file_extension": ".py",
   "mimetype": "text/x-python",
   "name": "python",
   "nbconvert_exporter": "python",
   "pygments_lexer": "ipython3",
   "version": "3.9.17"
  },
  "orig_nbformat": 4
 },
 "nbformat": 4,
 "nbformat_minor": 2
}
